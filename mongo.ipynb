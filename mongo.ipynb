{
 "cells": [
  {
   "cell_type": "markdown",
   "metadata": {},
   "source": [
    "# Mongo"
   ]
  },
  {
   "cell_type": "markdown",
   "metadata": {},
   "source": [
    "NoSQL (not only SQL) <br>\n",
    "document-based <br>\n",
    "no schema (although best practice) <br>\n",
    "each document can have as many fields as possible <br>\n",
    "fields are key-value pairs <br>\n",
    "SQL: database = Mongo: database <br>\n",
    "SQL: table = Mongo: collection <br>\n",
    "SQL: row = Mongo: document <br>\n",
    "SQL: column = Mongo: field <br>\n",
    "no joins, no transactions <br>\n",
    "cursor: when querying data, Mongo points to it (delaying execution) <br>\n",
    "more storage (redundancy) <br>\n",
    "faster reads (except complex queries) <br>\n",
    "scalable <br>\n",
    "safe (no SQL injections possible)"
   ]
  },
  {
   "cell_type": "markdown",
   "metadata": {},
   "source": [
    "more info here: https://docs.mongodb.com/manual/tutorial/getting-started/"
   ]
  },
  {
   "cell_type": "code",
   "execution_count": null,
   "metadata": {},
   "outputs": [],
   "source": [
    "# workflow\n",
    "# in terminal: navigate to the directory where data is, load in the data with:\n",
    "mongoimport --db clicks --collection log < click_log.json\n",
    "# clicks DB name \n",
    "# log collection name\n",
    "# in mongo shell:\n",
    "show dbs: # to make sure database was created\n",
    "use clicks; # to use clicks database for queries"
   ]
  },
  {
   "cell_type": "code",
   "execution_count": null,
   "metadata": {},
   "outputs": [],
   "source": [
    "# imports\n",
    "import pymongo # python wrapper for mongo\n",
    "from pymongo import ASCENDING, DESCENDING # for sorted indexing\n",
    "import pprint as pp # for pretty printing\n",
    "from pymongo import MongoClient"
   ]
  },
  {
   "cell_type": "code",
   "execution_count": null,
   "metadata": {},
   "outputs": [],
   "source": [
    "client = pymongo.MongoClient() # Create MongoClient instance running on localhost\n",
    "db_name='test_db'\n",
    "db = client[db_name] # specify the database you want to work with"
   ]
  },
  {
   "cell_type": "code",
   "execution_count": null,
   "metadata": {},
   "outputs": [],
   "source": [
    "# useful database statistics, includes number of entries (objects)\n",
    "db.command({'dbstats': 1})\n",
    "\n",
    "# useful collection statistics\n",
    "db.command({'collstats': 'log'})"
   ]
  },
  {
   "cell_type": "code",
   "execution_count": null,
   "metadata": {},
   "outputs": [],
   "source": [
    "# count the number of entries in the log table\n",
    "db.log.count() # log is collection name here\n",
    "\n",
    "# print the first 10 entries\n",
    "db.log.find().limit(10)\n",
    "\n",
    "# count the number of entries with the city San Francisco\n",
    "db.log.find({cy: 'San Francisco'}).count() # 'cy' here is for city\n",
    "\n",
    "# count the distinct types of web browsers\n",
    "db.log.distinct('a').length # 'a' here is for web browser"
   ]
  },
  {
   "cell_type": "markdown",
   "metadata": {},
   "source": [
    "## Creating new collection, inserting / updating"
   ]
  },
  {
   "cell_type": "code",
   "execution_count": null,
   "metadata": {},
   "outputs": [],
   "source": [
    "# create new collection\n",
    "STUDENTS = db[collection_name] # Get a collection instance\n",
    "print db.collection_names()\n",
    "# will only be really written to DB once we insert something or create and index"
   ]
  },
  {
   "cell_type": "code",
   "execution_count": null,
   "metadata": {},
   "outputs": [],
   "source": [
    "# optional indexing:\n",
    "STUDENTS.create_index([('student_id', ASCENDING)],unique=True)\n",
    "print db.collection_names()\n",
    "#now the collection is there!"
   ]
  },
  {
   "cell_type": "code",
   "execution_count": null,
   "metadata": {},
   "outputs": [],
   "source": [
    "# inserting\n",
    "student={'name':'joe','student_id':123,'class':'DS','favorite food':'tiramisu'}\n",
    "STUDENTS.insert_one(student)\n",
    "print STUDENTS.find_one()\n",
    "\n",
    "# insert same info\n",
    "STUDENTS.insert_one(student) # duplicate key error (unique key ID!)\n",
    "\n",
    "# use new ID but the rest is same\n",
    "student={'name':'joe','student_id':124,'class':'DS','favorite_food':'tiramisu'}\n",
    "STUDENTS.insert_one(student)\n",
    "\n",
    "# insert student without ID\n",
    "student={'name':'joe','class':'DS','favorite_food':'tiramisu'}\n",
    "STUDENTS.insert_one(student)\n",
    "\n",
    "# use string for ID\n",
    "student={'name':'joe','student_id':'abc','class':'DS','favorite_food':'tiramisu'}\n",
    "STUDENTS.insert_one(student)\n",
    "\n",
    "# insert list instead of string\n",
    "student={'name':'michelle','student_id':125,'class':'DS','favorite_food':['tiramisu','bananas']}\n",
    "STUDENTS.insert_one(student)\n",
    "\n",
    "# insert dict instead of string\n",
    "student={'name':'ken','student_id':126,'class':'DS','favorite_food':{'dessert':'tiramisu','drink':'coffee'}}\n",
    "STUDENTS.insert_one(student)\n",
    "\n",
    "# mongo don't care! :-)\n",
    "all_students=list(STUDENTS.find())\n",
    "pp.pprint(all_students)\n",
    "# all have different fields and different data types as values!"
   ]
  },
  {
   "cell_type": "code",
   "execution_count": null,
   "metadata": {},
   "outputs": [],
   "source": [
    "# updating\n",
    "\n",
    "# works just like the query but adds what needs to be changed\n",
    "print STUDENTS.find_one({'name':'michelle'})\n",
    "print \"updating...\"\n",
    "student = STUDENTS.update_one({'name':'michelle'},{'$set':{'favorite_food':'chocolate_cake'}})\n",
    "pp.pprint(STUDENTS.find_one({'name':'michelle'}))\n",
    "# we just changed Michelle's favorite food from a list to a string without a problem!"
   ]
  },
  {
   "cell_type": "code",
   "execution_count": null,
   "metadata": {},
   "outputs": [],
   "source": [
    "# deleting !!CAREFUL!!\n",
    "pp.pprint(STUDENTS.find_one({'name':'michelle'}))\n",
    "print \"deleting...\"\n",
    "STUDENTS.delete_one({'name':'michelle'})\n",
    "pp.pprint(STUDENTS.find_one({'name':'michelle'}))\n",
    "# she's gone!"
   ]
  },
  {
   "cell_type": "code",
   "execution_count": null,
   "metadata": {},
   "outputs": [],
   "source": [
    "# retrieving data:\n",
    "student = STUDENTS.find_one()\n",
    "pp.pprint(student)\n",
    "\n",
    "# find by field\n",
    "student = STUDENTS.find_one({'student_id':125})\n",
    "pp.pprint(student)\n",
    "\n",
    "student = STUDENTS.find_one({'name':'joe'})\n",
    "pp.pprint(student)\n",
    "\n",
    "#find all entries with a certain value\n",
    "all_joes = STUDENTS.find({'name':'joe'})\n",
    "\n",
    "for joe in all_joes:\n",
    "    pp.pprint(joe)\n",
    "\n",
    "# filter by two fields\n",
    "all_joes = STUDENTS.find({'name':'joe','student_id':123})\n",
    "for joe in all_joes:\n",
    "    pp.pprint(joe)\n",
    "# only one returned!\n",
    "\n",
    "# only do this if you know that your collection is small\n",
    "all_students=list(STUDENTS.find())\n",
    "pp.pprint(all_students)"
   ]
  },
  {
   "cell_type": "markdown",
   "metadata": {},
   "source": [
    "## NLP"
   ]
  },
  {
   "cell_type": "code",
   "execution_count": null,
   "metadata": {},
   "outputs": [],
   "source": [
    "# grab some article from the web and copy the text into ipython\n",
    "# count all the words of the article and put them into the \"article_word_counts\" collection\n",
    "\n",
    "WORD_COUNTS = db['article_word_counts']\n",
    "article_url='https://techcrunch.com/2017/05/25/watch-spacexs-falcon-heavy-booster-static-test-fire/'\n",
    "count_doc = {'article_url':article_url,'musk':5,'falcon':7,'rocket':3,'and':45,'heavy':2,'space':11}\n",
    "WORD_COUNTS.insert(count_doc)\n",
    "\n",
    "pp.pprint(WORD_COUNTS.find_one({'article_url':article_url}))"
   ]
  }
 ],
 "metadata": {
  "kernelspec": {
   "display_name": "Python 3",
   "language": "python",
   "name": "python3"
  },
  "language_info": {
   "codemirror_mode": {
    "name": "ipython",
    "version": 3
   },
   "file_extension": ".py",
   "mimetype": "text/x-python",
   "name": "python",
   "nbconvert_exporter": "python",
   "pygments_lexer": "ipython3",
   "version": "3.6.4"
  }
 },
 "nbformat": 4,
 "nbformat_minor": 2
}
