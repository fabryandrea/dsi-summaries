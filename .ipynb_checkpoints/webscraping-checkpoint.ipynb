{
 "cells": [
  {
   "cell_type": "markdown",
   "metadata": {},
   "source": [
    "# Webscraping"
   ]
  },
  {
   "cell_type": "markdown",
   "metadata": {},
   "source": [
    "get data from internet: <br>\n",
    "bulk download <br>\n",
    "file sharing <br>\n",
    "scraping <br>\n",
    "APIs/feeds"
   ]
  },
  {
   "cell_type": "markdown",
   "metadata": {},
   "source": [
    "scraping steps: <br>\n",
    "(1) request HTML file from server - using request library <br>\n",
    "(2) (store it in DB - using MongoDB) <br>\n",
    "(3) parse file - using BeautifulSoup library <br>\n",
    "(4) find data we need - using BeautifulSoup or regex"
   ]
  },
  {
   "cell_type": "markdown",
   "metadata": {},
   "source": [
    "## request library"
   ]
  },
  {
   "cell_type": "code",
   "execution_count": 2,
   "metadata": {},
   "outputs": [],
   "source": [
    "import requests\n",
    "response =\trequests.get('http://www.amazon.com')\n",
    "# response object now contains the HTML file (response.text)"
   ]
  },
  {
   "cell_type": "code",
   "execution_count": null,
   "metadata": {},
   "outputs": [],
   "source": [
    "# NASA image request loooong way\n",
    "images = requests.get('https://mars.nasa.gov/msl/multimedia/raw/?s=2032&camera=FHAZ_')\n",
    "\n",
    "# NASA image request with params\n",
    "images = requests.get('https://mars.nasa.gov/msl/multimedia/raw',\n",
    "                      params = {'s': '2032', 'camera': 'FHAZ_'})\n",
    "\n",
    "images.url\n",
    "images.headers\n",
    "images.text"
   ]
  },
  {
   "cell_type": "markdown",
   "metadata": {},
   "source": [
    "more info: https://html.python-requests.org/"
   ]
  },
  {
   "cell_type": "markdown",
   "metadata": {},
   "source": [
    "## BeautifulSoup"
   ]
  },
  {
   "cell_type": "code",
   "execution_count": 8,
   "metadata": {},
   "outputs": [],
   "source": [
    "from bs4 import BeautifulSoup"
   ]
  },
  {
   "cell_type": "code",
   "execution_count": null,
   "metadata": {},
   "outputs": [],
   "source": [
    "bs_obj = BeautifulSoup(r.text, 'html.parser')\n",
    "price=float(bs_obj.findAll('span',{'class':'price'})[0].get_text().strip('$'))\n",
    "\n",
    "# find all elements of type “span” with class “price”, get the first one and get its text, which is the price"
   ]
  },
  {
   "cell_type": "markdown",
   "metadata": {},
   "source": [
    "more info: https://www.crummy.com/software/BeautifulSoup/bs4/doc/"
   ]
  },
  {
   "cell_type": "code",
   "execution_count": 11,
   "metadata": {},
   "outputs": [],
   "source": [
    "htmlpage = images.text\n",
    "\n",
    "# construct soup object\n",
    "soup = BeautifulSoup(htmlpage, 'lxml') # specify parser"
   ]
  },
  {
   "cell_type": "code",
   "execution_count": null,
   "metadata": {},
   "outputs": [],
   "source": [
    "print(soup.prettify()) # using prettify method"
   ]
  },
  {
   "cell_type": "code",
   "execution_count": null,
   "metadata": {},
   "outputs": [],
   "source": [
    "soup.head # shows entire head - tag object tagged 'head'"
   ]
  },
  {
   "cell_type": "code",
   "execution_count": 13,
   "metadata": {},
   "outputs": [
    {
     "data": {
      "text/plain": [
       "'title'"
      ]
     },
     "execution_count": 13,
     "metadata": {},
     "output_type": "execute_result"
    }
   ],
   "source": [
    "soup.title # soup tag object tagged 'title'\n",
    "soup.title.name"
   ]
  },
  {
   "cell_type": "code",
   "execution_count": 14,
   "metadata": {},
   "outputs": [
    {
     "data": {
      "text/plain": [
       "'Raw Images - Mars Science Laboratory'"
      ]
     },
     "execution_count": 14,
     "metadata": {},
     "output_type": "execute_result"
    }
   ],
   "source": [
    "soup.title.contents\n",
    "soup.title.text\n",
    "soup.title.string # only if it's text only"
   ]
  },
  {
   "cell_type": "code",
   "execution_count": 15,
   "metadata": {},
   "outputs": [
    {
     "data": {
      "text/plain": [
       "{'align': 'left',\n",
       " 'alt': 'Follow this link to skip to the main content',\n",
       " 'border': '0',\n",
       " 'height': '1',\n",
       " 'hspace': '0',\n",
       " 'src': 'https://mars-jpl-nasa-gov-images.s3.amazonaws.com/spacer.gif',\n",
       " 'vspace': '0',\n",
       " 'width': '1'}"
      ]
     },
     "execution_count": 15,
     "metadata": {},
     "output_type": "execute_result"
    }
   ],
   "source": [
    "soup.img # soup tag object tagged 'img'\n",
    "soup.img.attrs # attributes"
   ]
  },
  {
   "cell_type": "code",
   "execution_count": 16,
   "metadata": {},
   "outputs": [
    {
     "data": {
      "text/plain": [
       "'https://mars-jpl-nasa-gov-images.s3.amazonaws.com/spacer.gif'"
      ]
     },
     "execution_count": 16,
     "metadata": {},
     "output_type": "execute_result"
    }
   ],
   "source": [
    "soup.img['src']"
   ]
  },
  {
   "cell_type": "code",
   "execution_count": 17,
   "metadata": {},
   "outputs": [
    {
     "data": {
      "text/plain": [
       "'1'"
      ]
     },
     "execution_count": 17,
     "metadata": {},
     "output_type": "execute_result"
    }
   ],
   "source": [
    "soup.img['width']"
   ]
  },
  {
   "cell_type": "code",
   "execution_count": null,
   "metadata": {},
   "outputs": [],
   "source": [
    "# find all images on web page\n",
    "soup.find_all('img')"
   ]
  },
  {
   "cell_type": "code",
   "execution_count": 19,
   "metadata": {},
   "outputs": [],
   "source": [
    "# want only these:\n",
    "# <img \n",
    "# alt=\"Image taken by Front Hazcam: Left B\" \n",
    "# hspace=\"0\" \n",
    "# src=\"/msl-raw-images/proj/msl/redops/ods/surface/sol/01460/opgs/edr/fcam/FLB_527107895EDR_F0572798FHAZ00337M_-thm.jpg\" \n",
    "# style=\"border: 3px solid #FFFFFF;\" \n",
    "# vspace=\"0\" \n",
    "# width=\"160\"/>,\n",
    "\n",
    "imgs = [img['src'] for img in soup.find_all('img') if 'Image' in img['alt']]"
   ]
  },
  {
   "cell_type": "markdown",
   "metadata": {},
   "source": [
    "## API"
   ]
  },
  {
   "cell_type": "code",
   "execution_count": null,
   "metadata": {},
   "outputs": [],
   "source": [
    "# A User agent header required for the Wikipedia API.\n",
    "headers = {'user_agent': 'Web_Scraping/1.1 (darren.reger@galvanize.com; dsi example exercise)'}\n",
    "\n",
    "# Experiment with fetching one or two pages and examining the result (fill in URL and payload)\n",
    "url = 'https://en.wikipedia.org/w/api.php'\n",
    "\n",
    "# parameters for the API request\n",
    "payload = { 'action' : 'parse' , 'format' : 'json','page' : 'Kevin Bacon' }\n",
    "\n",
    "# make the request\n",
    "r = requests.post(url, data=payload, headers=headers)\n",
    "\n",
    "# print out the result of the request as JSON\n",
    "print r.json()['parse']"
   ]
  },
  {
   "cell_type": "code",
   "execution_count": null,
   "metadata": {},
   "outputs": [],
   "source": [
    "# API authentication\n",
    "import requests\n",
    "z = requests.get('http://galvanizesf.roomzilla.net', auth=('', 'gVIP543'))"
   ]
  },
  {
   "cell_type": "code",
   "execution_count": null,
   "metadata": {},
   "outputs": [],
   "source": [
    "# using Mongo to store data we scrape from web\n",
    "from pymongo import MongoClient\n",
    "\n",
    "# Define the MongoDB database and table\n",
    "client = MongoClient()\n",
    "db = client.uk_police\n",
    "collection = db.all_crime\n",
    "# or table = db['meta']\n",
    "\n",
    "# create request - this grabs one date (year, month)\n",
    "request = requests.get('https://data.police.uk/api/crimes-no-location?category=all-crime&force=warwickshire&date=2013-09')\n",
    "# insert it as JSON (plays well with Mongo)\n",
    "collection.insert_many(other_request.json())\n",
    "\n",
    "# Possible way to grab data for range of months and years\n",
    "for year in range(2001, 2016):\n",
    "    for month in range(1, 13):\n",
    "        r = requests.get('https://data.police.uk/api/crimes-no-location?category=all-crime&force=warwickshire&date={}-{}'.format(year, month))\n",
    "        collection.insert_many(r.json())\n",
    "\n",
    "# print them\n",
    "import pprint as pp\n",
    "for item in collection.find({ 'category' : 'public-order' }):\n",
    "    pp.pprint(item)\n",
    "    \n",
    "# Remember to close the connection\n",
    "client.close()"
   ]
  }
 ],
 "metadata": {
  "kernelspec": {
   "display_name": "Python 3",
   "language": "python",
   "name": "python3"
  },
  "language_info": {
   "codemirror_mode": {
    "name": "ipython",
    "version": 3
   },
   "file_extension": ".py",
   "mimetype": "text/x-python",
   "name": "python",
   "nbconvert_exporter": "python",
   "pygments_lexer": "ipython3",
   "version": "3.6.4"
  }
 },
 "nbformat": 4,
 "nbformat_minor": 2
}
