{
 "cells": [
  {
   "cell_type": "markdown",
   "metadata": {},
   "source": [
    "# kNN"
   ]
  },
  {
   "cell_type": "markdown",
   "metadata": {},
   "source": [
    "## algorithm"
   ]
  },
  {
   "cell_type": "markdown",
   "metadata": {},
   "source": [
    "1. calculate the distance from x to all points in dataset\n",
    "2. sort the points by increasing distance\n",
    "3. predict the majority label (classification) / average value (regression) of the k closest point"
   ]
  },
  {
   "cell_type": "markdown",
   "metadata": {},
   "source": [
    " ![test](https://qph.fs.quoracdn.net/main-qimg-32a7eff79169c81b19f548248f0962ae)"
   ]
  },
  {
   "cell_type": "markdown",
   "metadata": {},
   "source": [
    "## preprocessing"
   ]
  },
  {
   "cell_type": "markdown",
   "metadata": {},
   "source": [
    "* categorical variables: create dummy variables\n",
    "* standardizing (since it is distance based)\n",
    "* text data\n",
    "* null values:"
   ]
  },
  {
   "cell_type": "code",
   "execution_count": null,
   "metadata": {},
   "outputs": [],
   "source": [
    "# scaling/normalizing, dummy variables, text, categorical data etc."
   ]
  },
  {
   "cell_type": "markdown",
   "metadata": {},
   "source": [
    "## tuning parameters"
   ]
  },
  {
   "cell_type": "markdown",
   "metadata": {},
   "source": [
    "distance:\n",
    "* Euclidean\n",
    "* Manhattan\n",
    "* cosine\n",
    "* Mahalobnis\n",
    "k"
   ]
  },
  {
   "cell_type": "markdown",
   "metadata": {},
   "source": [
    "## pluses / minuses"
   ]
  },
  {
   "cell_type": "markdown",
   "metadata": {},
   "source": [
    "* works well for d<5 dimensions\n",
    "* few hyperparameters\n",
    "* super simple\n",
    "* can weight distances\n",
    "* can bes used for classification / regression \n",
    "* prone to outliers\n",
    "* outperforms linear regression models when data does not exhibit a linear relationship\n",
    "* doesn't work well for small number of observations per predictors\n",
    "* can be used to fill in missing data (by finding k nearest neighbors based on present features and then filling in the missing value based on the average of the nearest neighbors)"
   ]
  },
  {
   "cell_type": "code",
   "execution_count": null,
   "metadata": {},
   "outputs": [],
   "source": []
  }
 ],
 "metadata": {
  "kernelspec": {
   "display_name": "Python 3",
   "language": "python",
   "name": "python3"
  },
  "language_info": {
   "codemirror_mode": {
    "name": "ipython",
    "version": 3
   },
   "file_extension": ".py",
   "mimetype": "text/x-python",
   "name": "python",
   "nbconvert_exporter": "python",
   "pygments_lexer": "ipython3",
   "version": "3.6.4"
  }
 },
 "nbformat": 4,
 "nbformat_minor": 2
}
