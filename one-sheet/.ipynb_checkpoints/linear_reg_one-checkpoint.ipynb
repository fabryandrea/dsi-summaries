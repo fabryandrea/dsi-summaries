{
 "cells": [
  {
   "cell_type": "markdown",
   "metadata": {},
   "source": [
    "# Linear Regression"
   ]
  },
  {
   "cell_type": "markdown",
   "metadata": {},
   "source": [
    "## algorithm"
   ]
  },
  {
   "cell_type": "markdown",
   "metadata": {},
   "source": [
    "linear model (parametric): $Y=\\beta_0 + X_1\\beta_1 + X_2\\beta_2 + ... + X_n\\beta_n + \\epsilon = \\displaystyle\\sum_{i=1}^{n} X_i\\beta_i$\n",
    "<br>\n",
    "find $\\beta$ by minimizing $\\displaystyle\\sum_{i=1}^{n} (y_i-\\hat{y_i})^2$ using OLS or gradient descent (online data)"
   ]
  },
  {
   "cell_type": "markdown",
   "metadata": {},
   "source": [
    "![test](https://newonlinecourses.science.psu.edu/stat857/sites/onlinecourses.science.psu.edu.stat857/files/lesson02/image_01/index.gif)"
   ]
  },
  {
   "cell_type": "markdown",
   "metadata": {},
   "source": [
    "## preprocessing"
   ]
  },
  {
   "cell_type": "markdown",
   "metadata": {},
   "source": [
    "* categorical variables: create dummy variables (omit one to prevent multicollinearity)\n",
    "* scaling for ridge and Lasso\n",
    "* text data\n",
    "* null values:"
   ]
  },
  {
   "cell_type": "markdown",
   "metadata": {},
   "source": [
    "## tuning parameters"
   ]
  },
  {
   "cell_type": "markdown",
   "metadata": {},
   "source": [
    "* none, lambda for ridge and lasso"
   ]
  },
  {
   "cell_type": "markdown",
   "metadata": {},
   "source": [
    "## pluses / minuses"
   ]
  },
  {
   "cell_type": "markdown",
   "metadata": {},
   "source": [
    "* more dimensions, more prone to overfitting\n",
    "* vulnerable to outliers"
   ]
  },
  {
   "cell_type": "code",
   "execution_count": null,
   "metadata": {},
   "outputs": [],
   "source": [
    "# fit linear regression using sklearn\n",
    "\n",
    "# determine X variable\n",
    "X = balance[['Income', 'Limit', 'Cards', 'Age', 'Education', 'Gender', 'Student', 'Married', 'Asian', 'Caucasian']] \n",
    "# no need for intercept in sklearn\n",
    "# determine Y variable\n",
    "y = balance['Balance'] \n",
    "\n",
    "# create a linear regression object\n",
    "lin_model = LinearRegression()\n",
    "lin_model.fit(X, y)"
   ]
  }
 ],
 "metadata": {
  "kernelspec": {
   "display_name": "Python 3",
   "language": "python",
   "name": "python3"
  },
  "language_info": {
   "codemirror_mode": {
    "name": "ipython",
    "version": 3
   },
   "file_extension": ".py",
   "mimetype": "text/x-python",
   "name": "python",
   "nbconvert_exporter": "python",
   "pygments_lexer": "ipython3",
   "version": "3.6.4"
  }
 },
 "nbformat": 4,
 "nbformat_minor": 2
}
